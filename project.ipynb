{
 "cells": [
  {
   "cell_type": "markdown",
   "metadata": {},
   "source": [
    "**Business Problem**\n",
    " \n",
    "In recent years , City hotel and resort hotel have seen high cancellation rates.\n",
    "Each hotel is now dealing with a number of issues as a result, icluding fewer revenues and less than ideal hotel room use.\n",
    "Consequently, lowering cancellation rates is both hotels primary goal in order to increase their efficiency in generating revenue, and for us to offer thorough business advice to address this problem.\n",
    "\n",
    "The analysis of hotel booking cancellations as well as other factors that have no bearing on their businessand yearly revenue generation are the main topics of this project."
   ]
  },
  {
   "cell_type": "markdown",
   "metadata": {},
   "source": [
    "**Assumptions**\n",
    "\n",
    "1.No unusual occurences between 2015 and 2017 will have a substantial impact on the data used.\n",
    "\n",
    "2.The information is still current and can be used to analyse a hotel possible plans in an efficient manner.\n",
    "\n",
    "3.There are no unanticipated negatives to the hotel employing any advised technique.\n",
    "\n",
    "4.The hotels are not currently using any of the suggested solutions.\n",
    "\n",
    "5.The biggest factor affecting the effectiveness of earningincome is booking cancellations.\n",
    "\n",
    "6.Cancellations result in vacant rooms for the booked length of time.\n",
    "\n",
    "7.Clients make hotel reservations the same year they make cancellations."
   ]
  },
  {
   "cell_type": "markdown",
   "metadata": {},
   "source": [
    "**Research Question**\n",
    "\n",
    "1.What are the variables that affect hotel reservation cancellations?\n",
    "\n",
    "2.How can we make hotel reservations cancellations better?\n",
    "\n",
    "3.How will hotels be assisted in making pricing and promotional decisions?"
   ]
  },
  {
   "cell_type": "markdown",
   "metadata": {},
   "source": [
    "**Hypothesis**\n",
    "\n",
    "1.More cancellations occur when prices are higher.\n",
    "\n",
    "2.When there is a longer waiting list , customers tend to cancel more frequently.\n",
    "\n",
    "3.The majority of clients are coming from offline travel agents to make their reservations.\n"
   ]
  },
  {
   "cell_type": "code",
   "execution_count": null,
   "metadata": {},
   "outputs": [],
   "source": []
  }
 ],
 "metadata": {
  "language_info": {
   "name": "python"
  }
 },
 "nbformat": 4,
 "nbformat_minor": 2
}
